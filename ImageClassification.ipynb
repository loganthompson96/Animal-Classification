{
  "cells": [
    {
      "cell_type": "code",
      "execution_count": null,
      "metadata": {
        "id": "1hz9eEU-ZO9f"
      },
      "outputs": [],
      "source": [
        "import pickle\n",
        "import pandas as pd\n",
        "from matplotlib import pyplot as plt\n",
        "import numpy as np"
      ]
    },
    {
      "cell_type": "code",
      "execution_count": null,
      "metadata": {
        "id": "lryo9SB3ZO9g"
      },
      "outputs": [],
      "source": [
        "## This opens a *.pkl file\n",
        "\n",
        "def unpickle(filename):\n",
        "    with open(filename, \"rb\") as f:\n",
        "        data = pickle.load(f)\n",
        "    return data\n",
        "\n",
        "# this saves \"thing\" to a *.pkl file\n",
        "def to_pickle(thing, filename):\n",
        "    with open(filename, \"wb\") as f:\n",
        "        pickle.dump(thing, f)\n",
        "        f.close()"
      ]
    },
    {
      "cell_type": "code",
      "execution_count": null,
      "metadata": {
        "colab": {
          "base_uri": "https://localhost:8080/"
        },
        "id": "C0fVvPpTZO9h",
        "outputId": "9b75241b-efd5-4d82-a886-5973182af629"
      },
      "outputs": [
        {
          "name": "stdout",
          "output_type": "stream",
          "text": [
            "(10000, 12288)\n",
            "(10000,)\n"
          ]
        }
      ],
      "source": [
        "train = unpickle(\"./train.pkl\")\n",
        "print(train[\"data\"].shape)\n",
        "print(train[\"label\"].shape)"
      ]
    },
    {
      "cell_type": "code",
      "execution_count": null,
      "metadata": {
        "id": "gXNkdIuaZO9i"
      },
      "outputs": [],
      "source": [
        "# label dictionary: this maps label integer to the name of the animal\n",
        "label2name = {1: 'dog',\n",
        "              2: 'rabbit',\n",
        "              3: 'deer',\n",
        "              4: 'elephant',\n",
        "              5: 'horse',\n",
        "              6: 'squirrel',\n",
        "              7: 'tiger',\n",
        "              8: 'wolf',\n",
        "              9: 'chimpanzee',\n",
        "              10: 'panda'}"
      ]
    },
    {
      "cell_type": "code",
      "execution_count": null,
      "metadata": {
        "code_folding": [],
        "id": "E7uI_euIZO9j"
      },
      "outputs": [],
      "source": [
        "# this plot one image given the image index\n",
        "def show_image(idx, train, label2name=label2name):\n",
        "    img = train[\"data\"][idx]\n",
        "    img = np.dstack((img[:4096], img[4096:8192], img[8192:])).reshape(64,64,3)\n",
        "    plt.imshow(img)\n",
        "    plt.title(label2name[train[\"label\"][idx]])\n",
        "    plt.show()"
      ]
    },
    {
      "cell_type": "code",
      "execution_count": null,
      "metadata": {
        "code_folding": [],
        "colab": {
          "base_uri": "https://localhost:8080/",
          "height": 281
        },
        "id": "azua9tkYZO9j",
        "outputId": "9ee282ec-3830-435d-f4e0-4b7b81d35d51"
      },
      "outputs": [
        {
          "data": {
            "image/png": "[encoded data removed]",
            "text/plain": [
              "<Figure size 432x288 with 1 Axes>"
            ]
          },
          "metadata": {
            "needs_background": "light",
            "tags": []
          },
          "output_type": "display_data"
        }
      ],
      "source": [
        "show_image(3, train)"
      ]
    },
    {
      "cell_type": "code",
      "execution_count": null,
      "metadata": {
        "colab": {
          "base_uri": "https://localhost:8080/"
        },
        "id": "mJ1yhJACZO9k",
        "outputId": "70842d33-ff6a-4f26-8605-a337b882af75"
      },
      "outputs": [
        {
          "name": "stdout",
          "output_type": "stream",
          "text": [
            "new_x_train.shape = (100, 64, 64, 3)\n",
            "new_y_train.shape = (10000, 10)\n",
            "Model: \"sequential\"\n",
            "_________________________________________________________________\n",
            "Layer (type)                 Output Shape              Param #   \n",
            "=================================================================\n",
            "conv2d (Conv2D)              (None, 64, 64, 16)        208       \n",
            "_________________________________________________________________\n",
            "max_pooling2d (MaxPooling2D) (None, 32, 32, 16)        0         \n",
            "_________________________________________________________________\n",
            "conv2d_1 (Conv2D)            (None, 32, 32, 32)        2080      \n",
            "_________________________________________________________________\n",
            "max_pooling2d_1 (MaxPooling2 (None, 16, 16, 32)        0         \n",
            "_________________________________________________________________\n",
            "conv2d_2 (Conv2D)            (None, 16, 16, 64)        8256      \n",
            "_________________________________________________________________\n",
            "max_pooling2d_2 (MaxPooling2 (None, 8, 8, 64)          0         \n",
            "_________________________________________________________________\n",
            "dropout (Dropout)            (None, 8, 8, 64)          0         \n",
            "_________________________________________________________________\n",
            "flatten (Flatten)            (None, 4096)              0         \n",
            "_________________________________________________________________\n",
            "dense (Dense)                (None, 500)               2048500   \n",
            "_________________________________________________________________\n",
            "dropout_1 (Dropout)          (None, 500)               0         \n",
            "_________________________________________________________________\n",
            "dense_1 (Dense)              (None, 10)                5010      \n",
            "=================================================================\n",
            "Total params: 2,064,054\n",
            "Trainable params: 2,064,054\n",
            "Non-trainable params: 0\n",
            "_________________________________________________________________\n",
            "Epoch 1/40\n",
            "2/2 [==============================] - 44s 729ms/step - loss: 2.3687 - accuracy: 0.1148 - val_loss: 2.4408 - val_accuracy: 0.2000\n",
            "Epoch 2/40\n",
            "2/2 [==============================] - 0s 24ms/step - loss: 2.2920 - accuracy: 0.1289 - val_loss: 2.1520 - val_accuracy: 0.4000\n",
            "Epoch 3/40\n",
            "2/2 [==============================] - 0s 25ms/step - loss: 2.1804 - accuracy: 0.2504 - val_loss: 2.1672 - val_accuracy: 0.1000\n",
            "Epoch 4/40\n",
            "2/2 [==============================] - 0s 25ms/step - loss: 2.1003 - accuracy: 0.2704 - val_loss: 2.2287 - val_accuracy: 0.1000\n",
            "Epoch 5/40\n",
            "2/2 [==============================] - 0s 24ms/step - loss: 1.9803 - accuracy: 0.4007 - val_loss: 2.1043 - val_accuracy: 0.1000\n",
            "Epoch 6/40\n",
            "2/2 [==============================] - 0s 24ms/step - loss: 1.9002 - accuracy: 0.3800 - val_loss: 2.0464 - val_accuracy: 0.3000\n",
            "Epoch 7/40\n",
            "2/2 [==============================] - 0s 24ms/step - loss: 1.8750 - accuracy: 0.3667 - val_loss: 2.1214 - val_accuracy: 0.1000\n",
            "Epoch 8/40\n",
            "2/2 [==============================] - 0s 25ms/step - loss: 1.6484 - accuracy: 0.4837 - val_loss: 2.0790 - val_accuracy: 0.1000\n",
            "Epoch 9/40\n",
            "2/2 [==============================] - 0s 30ms/step - loss: 1.6235 - accuracy: 0.5200 - val_loss: 1.9189 - val_accuracy: 0.4000\n",
            "Epoch 10/40\n",
            "2/2 [==============================] - 0s 24ms/step - loss: 1.5854 - accuracy: 0.4859 - val_loss: 1.9232 - val_accuracy: 0.3000\n",
            "Epoch 11/40\n",
            "2/2 [==============================] - 0s 25ms/step - loss: 1.5070 - accuracy: 0.5148 - val_loss: 1.8613 - val_accuracy: 0.3000\n",
            "Epoch 12/40\n",
            "2/2 [==============================] - 0s 23ms/step - loss: 1.3437 - accuracy: 0.6133 - val_loss: 1.7729 - val_accuracy: 0.3000\n",
            "Epoch 13/40\n",
            "2/2 [==============================] - 0s 23ms/step - loss: 1.2610 - accuracy: 0.6563 - val_loss: 1.6930 - val_accuracy: 0.3000\n",
            "Epoch 14/40\n",
            "2/2 [==============================] - 0s 26ms/step - loss: 1.2149 - accuracy: 0.6281 - val_loss: 1.6903 - val_accuracy: 0.3000\n",
            "Epoch 15/40\n",
            "2/2 [==============================] - 0s 25ms/step - loss: 1.2171 - accuracy: 0.6511 - val_loss: 1.6708 - val_accuracy: 0.4000\n",
            "Epoch 16/40\n",
            "2/2 [==============================] - 0s 24ms/step - loss: 1.0310 - accuracy: 0.6726 - val_loss: 1.6953 - val_accuracy: 0.3000\n",
            "Epoch 17/40\n",
            "2/2 [==============================] - 0s 24ms/step - loss: 0.9394 - accuracy: 0.7770 - val_loss: 1.7257 - val_accuracy: 0.3000\n",
            "Epoch 18/40\n",
            "2/2 [==============================] - 0s 25ms/step - loss: 0.9544 - accuracy: 0.7215 - val_loss: 1.5764 - val_accuracy: 0.4000\n",
            "Epoch 19/40\n",
            "2/2 [==============================] - 0s 32ms/step - loss: 0.8410 - accuracy: 0.8289 - val_loss: 1.6404 - val_accuracy: 0.3000\n",
            "Epoch 20/40\n",
            "2/2 [==============================] - 0s 28ms/step - loss: 0.7798 - accuracy: 0.8215 - val_loss: 1.5825 - val_accuracy: 0.3000\n",
            "Epoch 21/40\n",
            "2/2 [==============================] - 0s 27ms/step - loss: 0.6698 - accuracy: 0.8415 - val_loss: 1.7259 - val_accuracy: 0.2000\n",
            "Epoch 22/40\n",
            "2/2 [==============================] - 0s 24ms/step - loss: 0.6704 - accuracy: 0.7867 - val_loss: 1.8521 - val_accuracy: 0.2000\n",
            "Epoch 23/40\n",
            "2/2 [==============================] - 0s 23ms/step - loss: 0.5843 - accuracy: 0.8504 - val_loss: 1.8653 - val_accuracy: 0.3000\n",
            "Epoch 24/40\n",
            "2/2 [==============================] - 0s 28ms/step - loss: 0.5850 - accuracy: 0.8711 - val_loss: 1.7328 - val_accuracy: 0.3000\n",
            "Epoch 25/40\n",
            "2/2 [==============================] - 0s 25ms/step - loss: 0.4292 - accuracy: 0.9059 - val_loss: 1.6438 - val_accuracy: 0.3000\n",
            "Epoch 26/40\n",
            "2/2 [==============================] - 0s 24ms/step - loss: 0.4338 - accuracy: 0.9215 - val_loss: 1.7880 - val_accuracy: 0.5000\n",
            "Epoch 27/40\n",
            "2/2 [==============================] - 0s 24ms/step - loss: 0.4036 - accuracy: 0.9133 - val_loss: 2.0398 - val_accuracy: 0.3000\n",
            "Epoch 28/40\n",
            "2/2 [==============================] - 0s 28ms/step - loss: 0.3809 - accuracy: 0.8859 - val_loss: 2.4403 - val_accuracy: 0.2000\n",
            "Epoch 29/40\n",
            "2/2 [==============================] - 0s 25ms/step - loss: 0.3824 - accuracy: 0.9000 - val_loss: 2.1468 - val_accuracy: 0.3000\n",
            "Epoch 30/40\n",
            "2/2 [==============================] - 0s 25ms/step - loss: 0.3112 - accuracy: 0.9504 - val_loss: 1.8719 - val_accuracy: 0.4000\n",
            "Epoch 31/40\n",
            "2/2 [==============================] - 0s 25ms/step - loss: 0.2288 - accuracy: 0.9859 - val_loss: 2.0312 - val_accuracy: 0.4000\n",
            "Epoch 32/40\n",
            "2/2 [==============================] - 0s 24ms/step - loss: 0.2403 - accuracy: 0.9926 - val_loss: 2.1172 - val_accuracy: 0.3000\n",
            "Epoch 33/40\n",
            "2/2 [==============================] - 0s 25ms/step - loss: 0.1717 - accuracy: 0.9852 - val_loss: 2.2532 - val_accuracy: 0.3000\n",
            "Epoch 34/40\n",
            "2/2 [==============================] - 0s 30ms/step - loss: 0.1743 - accuracy: 0.9859 - val_loss: 2.4318 - val_accuracy: 0.2000\n",
            "Epoch 35/40\n",
            "2/2 [==============================] - 0s 28ms/step - loss: 0.1745 - accuracy: 0.9719 - val_loss: 2.5430 - val_accuracy: 0.2000\n",
            "Epoch 36/40\n",
            "2/2 [==============================] - 0s 25ms/step - loss: 0.1350 - accuracy: 0.9859 - val_loss: 2.5147 - val_accuracy: 0.4000\n",
            "Epoch 37/40\n",
            "2/2 [==============================] - 0s 26ms/step - loss: 0.1085 - accuracy: 1.0000 - val_loss: 2.4800 - val_accuracy: 0.3000\n",
            "Epoch 38/40\n",
            "2/2 [==============================] - 0s 24ms/step - loss: 0.1262 - accuracy: 0.9719 - val_loss: 2.5164 - val_accuracy: 0.2000\n",
            "Epoch 39/40\n",
            "2/2 [==============================] - 0s 25ms/step - loss: 0.1132 - accuracy: 0.9859 - val_loss: 2.5795 - val_accuracy: 0.2000\n",
            "Epoch 40/40\n",
            "2/2 [==============================] - 0s 25ms/step - loss: 0.0632 - accuracy: 1.0000 - val_loss: 2.7717 - val_accuracy: 0.3000\n",
            "\n",
            "Now With Test Data:\n",
            "x_test.shape = (2000, 12288)\n",
            "new_x_test.shape = (2000, 64, 64, 3)\n"
          ]
        }
      ],
      "source": [
        "import numpy as np\n",
        "#from tensorflow.keras.applications.vgg19 import VGG19\n",
        "#from tensorflow.keras.applications.resnet import ResNet50\n",
        "#from tensorflow.keras.applications.xception import Xception\n",
        "from tensorflow import keras\n",
        "from tensorflow.keras import layers\n",
        "from sklearn.preprocessing import OneHotEncoder\n",
        "\n",
        "from keras.models import Sequential\n",
        "from keras.layers import Conv2D,MaxPooling2D,Dense,Flatten,Dropout\n",
        "\n",
        "#Get training data and labels\n",
        "x_train = train[\"data\"]\n",
        "y_train = train[\"label\"]\n",
        "\n",
        "\n",
        "#Resize to be between 0 and 1\n",
        "x_train = x_train / 255\n",
        "\n",
        "#   x_train   ->  new_x_train   ->      Reshape\n",
        "#(100, 12288) -> (100, 3, 4096) -> (100, 3, 64, 64)\n",
        "new_x_train = np.zeros((100, 3, 4096))\n",
        "for i in range(0,100):\n",
        "  k = 0\n",
        "  for j in range(0, 4095):\n",
        "    new_x_train[i][0][k] = x_train[i][j] #Red Values\n",
        "    k = k + 1\n",
        "\n",
        "  k = 0\n",
        "  for j in range(4096, 8191):\n",
        "    new_x_train[i][1][k] = x_train[i][j] #Green Values\n",
        "    k = k + 1\n",
        "\n",
        "  k = 0\n",
        "  for j in range(8192, 12287):\n",
        "    new_x_train[i][2][k] = x_train[i][j] #Blue Values\n",
        "    k = k + 1\n",
        "\n",
        "new_x_train = np.reshape(new_x_train, ((100, 64, 64, 3)))\n",
        "print(\"new_x_train.shape =\", new_x_train.shape)\n",
        "\n",
        "#One Hot Encoding\n",
        "#y_train  -> new_y_train \n",
        "#(10000,) -> (10000, 10)\n",
        "new_y_train = np.zeros((10000, 10))\n",
        "for i in range(0,10000):\n",
        "  #Insert 1 in necessary place\n",
        "  j = y_train[i] - 1\n",
        "  new_y_train[i][j] = 1\n",
        "    \n",
        "print(\"new_y_train.shape =\",new_y_train.shape)\n",
        "\n",
        "\n",
        "# Import the trained neural network model, minus it's last (top) neuron layer.\n",
        "#base_model = ResNet50(weights = 'imagenet',\n",
        "#                  include_top = False,\n",
        "#                  input_shape = (64, 64, 3),\n",
        "#                  pooling = None)\n",
        "# \n",
        " \n",
        "# This freezes the weights of the pretrained model.\n",
        "#for layer in base_model.layers: \n",
        "#   layer.trainable = False\n",
        " \n",
        "#Build and Compile Model\n",
        "#num_digits = 10\n",
        "#model = keras.Sequential(\n",
        "#  [\n",
        "#      base_model,\n",
        "#      keras.layers.GlobalAveragePooling2D(),\n",
        "#      #layers.Dense(num_digits*20, activation=\"ReLU\"),\n",
        "#      layers.Dense(num_digits*5, activation=\"ReLU\"),\n",
        "#      layers.Dense(num_digits, activation=\"softmax\"),\n",
        "#  ]\n",
        "#)\n",
        "#opt = keras.optimizers.Adam(learning_rate=0.01)\n",
        "#model.compile(loss = 'categorical_crossentropy', optimizer = opt, metrics=[\"accuracy\"])\n",
        "\n",
        "\n",
        "#make model\n",
        "model=Sequential()\n",
        "model.add(Conv2D(filters=16,kernel_size=2,padding=\"same\",activation=\"relu\",input_shape=(64,64,3)))\n",
        "model.add(MaxPooling2D(pool_size=2))\n",
        "model.add(Conv2D(filters=32,kernel_size=2,padding=\"same\",activation=\"relu\"))\n",
        "model.add(MaxPooling2D(pool_size=2))\n",
        "model.add(Conv2D(filters=64,kernel_size=2,padding=\"same\",activation=\"relu\"))\n",
        "model.add(MaxPooling2D(pool_size=2))\n",
        "model.add(Dropout(0.2))\n",
        "model.add(Flatten())\n",
        "model.add(Dense(500,activation=\"relu\"))\n",
        "model.add(Dropout(0.2))\n",
        "model.add(Dense(10,activation=\"softmax\"))\n",
        "\n",
        "\n",
        "model.compile(loss=\"categorical_crossentropy\", optimizer=\"adam\", metrics=[\"accuracy\"])\n",
        "\n",
        "model.summary()\n",
        "\n",
        "#TESTING - FOR Xception\n",
        "#new_x_train = np.pad(new_x_train, 4)\n",
        "#new_x_train = np.delete(new_x_train, 10, 3)\n",
        "#new_x_train = np.delete(new_x_train, 9, 3)\n",
        "#new_x_train = np.delete(new_x_train, 8, 3)\n",
        "#new_x_train = np.delete(new_x_train, 7, 3)\n",
        "#new_x_train = np.delete(new_x_train, 3, 3)\n",
        "#new_x_train = np.delete(new_x_train, 2, 3)\n",
        "#new_x_train = np.delete(new_x_train, 1, 3)\n",
        "#new_x_train = np.delete(new_x_train, 0, 3)\n",
        " \n",
        "# Train the model\n",
        "batch_size = 50\n",
        "epochs = 40\n",
        "History = model.fit(new_x_train, new_y_train, batch_size=batch_size, epochs=epochs, validation_split=0.1)\n",
        "\n",
        "\n",
        "# NOW WITH TESTING DATA\n",
        "print(\"\\nNow With Test Data:\")\n",
        "#Get testing data\n",
        "test = unpickle(\"./test.pkl\")\n",
        "x_test = test[\"data\"]\n",
        "print(\"x_test.shape =\", x_test.shape)\n",
        "\n",
        "#   x_test     ->    new_x_test   ->      Reshape\n",
        "#(2000, 12288) -> (2000, 3, 4096) -> (2000, 3, 64, 64)\n",
        "new_x_test = np.zeros((2000, 3, 4096))\n",
        "for i in range(0,2000):\n",
        "  k = 0\n",
        "  for j in range(0, 4095):\n",
        "    new_x_test[i][0][k] = x_test[i][j] #Red Values\n",
        "    k = k + 1\n",
        "\n",
        "  k = 0\n",
        "  for j in range(4096, 8191):\n",
        "    new_x_test[i][1][k] = x_test[i][j] #Green Values\n",
        "    k = k + 1\n",
        "\n",
        "  k = 0\n",
        "  for j in range(8192, 12287):\n",
        "    new_x_test[i][2][k] = x_test[i][j] #Blue Values\n",
        "    k = k + 1\n",
        "\n",
        "new_x_test = np.reshape(new_x_test, ((2000, 64, 64, 3)))\n",
        "print(\"new_x_test.shape =\", new_x_test.shape)\n",
        " "
      ]
    },
    {
      "cell_type": "code",
      "execution_count": null,
      "metadata": {
        "id": "Xc4FWS1v5Zgq"
      },
      "outputs": [],
      "source": [
        "def show_image2(idx, train, label2name=label2name):\n",
        "    img = train[\"data\"][idx]\n",
        "    img = np.dstack((img[:4096], img[4096:8192], img[8192:])).reshape(64,64,3)\n",
        "    plt.imshow(img)\n",
        "    plt.show()"
      ]
    },
    {
      "cell_type": "code",
      "execution_count": null,
      "metadata": {
        "colab": {
          "base_uri": "https://localhost:8080/",
          "height": 573
        },
        "id": "utRoYgz4_9vb",
        "outputId": "79e33c70-ca0a-40ce-d106-4efa2d757641"
      },
      "outputs": [
        {
          "data": {
            "image/png": "[encoded data removed]",
            "text/plain": [
              "<Figure size 432x288 with 1 Axes>"
            ]
          },
          "metadata": {
            "needs_background": "light",
            "tags": []
          },
          "output_type": "display_data"
        },
        {
          "data": {
            "image/png": "[encoded data removed]",
            "text/plain": [
              "<Figure size 432x288 with 1 Axes>"
            ]
          },
          "metadata": {
            "needs_background": "light",
            "tags": []
          },
          "output_type": "display_data"
        }
      ],
      "source": [
        "def plot_losses(hist):\n",
        "    plt.plot(hist.history['loss'])\n",
        "    plt.plot(hist.history['val_loss'])\n",
        "    plt.title('Model Loss')\n",
        "    plt.ylabel('Loss')\n",
        "    plt.xlabel('Epoch')\n",
        "    plt.legend(['Train', 'Val'])\n",
        "    plt.show()\n",
        "def plot_accuracies(hist):\n",
        "    plt.plot(hist.history['accuracy'])\n",
        "    plt.plot(hist.history['val_accuracy'])\n",
        "    plt.title('Model Accuracy')\n",
        "    plt.ylabel('Accuracy')\n",
        "    plt.xlabel('Epoch')\n",
        "    plt.legend(['Train', 'Val'])\n",
        "    plt.show()\n",
        "\n",
        "plot_accuracies(History)\n",
        "plot_losses(History)"
      ]
    },
    {
      "cell_type": "code",
      "execution_count": null,
      "metadata": {
        "id": "zoVKtF8s20Su"
      },
      "outputs": [],
      "source": [
        "#TESTING - FOR Xception\n",
        "#new_x_test = np.pad(new_x_test, 4)\n",
        "#new_x_test = np.delete(new_x_test, 10, 3)\n",
        "#new_x_test = np.delete(new_x_test, 9, 3)\n",
        "#new_x_test = np.delete(new_x_test, 8, 3)\n",
        "#new_x_test = np.delete(new_x_test, 7, 3)\n",
        "#new_x_test = np.delete(new_x_test, 3, 3)\n",
        "#new_x_test = np.delete(new_x_test, 2, 3)\n",
        "#new_x_test = np.delete(new_x_test, 1, 3)\n",
        "#new_x_test = np.delete(new_x_test, 0, 3)\n"
      ]
    },
    {
      "cell_type": "code",
      "execution_count": null,
      "metadata": {
        "id": "JLUXoipZCo17"
      },
      "outputs": [],
      "source": [
        "#Predict for new_x_test\n",
        "predictions = model.predict(new_x_test)\n",
        "#np.set_printoptions(suppress=True)\n",
        "#print(\"predictions.shape =\", predictions.shape) #Should be (2000, 10)\n"
      ]
    },
    {
      "cell_type": "code",
      "execution_count": null,
      "metadata": {
        "id": "-XlQ54bgCsm6"
      },
      "outputs": [],
      "source": [
        "#1: 'dog',\n",
        "#2: 'rabbit',\n",
        "#3: 'deer',\n",
        "#4: 'elephant',\n",
        "#5: 'horse',\n",
        "#6: 'squirrel',\n",
        "#7: 'tiger',\n",
        "#8: 'wolf',\n",
        "#9: 'chimpanzee',\n",
        "#10: 'panda'"
      ]
    },
    {
      "cell_type": "code",
      "execution_count": null,
      "metadata": {
        "id": "uPFwXIBB_wOy"
      },
      "outputs": [],
      "source": [
        "#Convert One Hot Encoding into 1-10\n",
        "pred_arr = np.zeros(2000)\n",
        "for i in range(0, 2000):\n",
        " pred_max = 0 #Reset after each prediction\n",
        " for j in range(0, 10):\n",
        "   if predictions[i][j] > pred_max:\n",
        "     pred_max = predictions[i][j]\n",
        "     pred_arr[i] = j+1 #1-10 not 0-9\n",
        " "
      ]
    },
    {
      "cell_type": "code",
      "execution_count": null,
      "metadata": {
        "id": "2Wmg1KBe_xiv"
      },
      "outputs": [],
      "source": [
        "#Output predictions to file\n",
        "original_df = pd.DataFrame({\"id\": range(2000), \"label\": pred_arr})\n",
        "original_df = original_df.astype(int)\n",
        "original_df.to_csv(\"./sample_submission.csv\", index=False)"
      ]
    }
  ],
  "metadata": {
    "accelerator": "GPU",
    "colab": {
      "name": "helper.ipynb",
      "provenance": []
    },
    "kernelspec": {
      "display_name": "Python 3.8.9 64-bit",
      "language": "python",
      "name": "python3"
    },
    "language_info": {
      "codemirror_mode": {
        "name": "ipython",
        "version": 3
      },
      "file_extension": ".py",
      "mimetype": "text/x-python",
      "name": "python",
      "nbconvert_exporter": "python",
      "pygments_lexer": "ipython3",
      "version": "3.8.9"
    },
    "vscode": {
      "interpreter": {
        "hash": "31f2aee4e71d21fbe5cf8b01ff0e069b9275f58929596ceb00d14d90e3e16cd6"
      }
    }
  },
  "nbformat": 4,
  "nbformat_minor": 0
}
